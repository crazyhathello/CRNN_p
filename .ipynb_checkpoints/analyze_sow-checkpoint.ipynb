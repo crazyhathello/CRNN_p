{
 "cells": [
  {
   "cell_type": "code",
   "execution_count": 21,
   "metadata": {},
   "outputs": [],
   "source": [
    "from functions_test import *\n",
    "import sys\n",
    "import numpy as np\n",
    "import pickle\n",
    "\n",
    "from sklearn.preprocessing import OneHotEncoder, LabelEncoder\n",
    "import pandas as pd\n",
    "import matplotlib.pyplot as plt\n",
    "from matplotlib.patches import Patch\n",
    "from matplotlib.lines import Line2D\n",
    "from sklearn.metrics import confusion_matrix\n",
    "import csv\n",
    "import os.path"
   ]
  },
  {
   "cell_type": "markdown",
   "metadata": {},
   "source": [
    "### 讀檔、校正"
   ]
  },
  {
   "cell_type": "code",
   "execution_count": 12,
   "metadata": {
    "scrolled": true
   },
   "outputs": [],
   "source": [
    "action_names = ['Feeding','LactatingLeft','LactatingRight','NonLactating','Sitting','Standing','VRecumbency']\n",
    "# count testdata (no groung truth)\n",
    " \n",
    "def read_cor(prediction_path, cor = True, so = True):\n",
    "    date = prediction_path[-9:-1]\n",
    "\n",
    "    with open(os.path.join(prediction_path, \"prediction.pkl\"), 'rb') as f:\n",
    "        data_o = np.array(pickle.load(f))\n",
    "        np.set_printoptions(threshold=sys.maxsize)\n",
    "        data_o = data_o.tolist()\n",
    "        if so == True:\n",
    "            data = sorted(data_o, key = lambda s: s[0])\n",
    "        else:\n",
    "            data = data_o\n",
    "\n",
    "        data = np.array(data)\n",
    "        data_num = len(data)\n",
    "        data_date = data[:,0]\n",
    "        data_pd = data[:,1]\n",
    "\n",
    "    le = LabelEncoder()\n",
    "    le.fit(action_names) \n",
    "    list(le.classes_)\n",
    "    # print(le.classes_[0])\n",
    "    pd_list = labels2cat(le, data_pd)\n",
    "\n",
    "    # 校正\n",
    "    if cor == True:\n",
    "        for i in range(len(pd_list)):\n",
    "            if i <= len(pd_list)-6 and i > 0:\n",
    "                pd_p = pd_list[i-1]\n",
    "                pd = pd_list[i]\n",
    "                pd_1 = pd_list[i+1]\n",
    "                pd_2 = pd_list[i+2]\n",
    "                pd_3 = pd_list[i+3]\n",
    "                pd_4 = pd_list[i+4]\n",
    "                pd_5 = pd_list[i+5]\n",
    "\n",
    "                # Lactating 校正 (23)\n",
    "                if pd == 1 or pd == 2 or pd == 3:\n",
    "                    if pd != pd_p and pd != pd_1:                \n",
    "                        pd_list[i] = pd_p\n",
    "                        pd = pd_p\n",
    "                    elif pd != pd_p and pd != pd_2:                \n",
    "                        pd_list[i] = pd_p\n",
    "                        pd = pd_p\n",
    "\n",
    "                # Lactating 校正 (時長)\n",
    "                if pd == 1 or pd == 2:\n",
    "                    if pd != pd_p and (pd != pd_1 or pd != pd_2 or pd != pd_3 or pd != pd_4):                \n",
    "                        pd_list[i] = pd_p\n",
    "\n",
    "                # VRecumbency 校正\n",
    "                if pd == 6:\n",
    "                    if pd != pd_p and pd != pd_1:                \n",
    "                        pd_list[i] = pd_p\n",
    "                    elif pd != pd_p and pd != pd_2:                \n",
    "                        pd_list[i] = pd_p\n",
    "\n",
    "    pd_final = cat2labels(le, pd_list)\n",
    "    return  date, data_num, pd_list, pd_final, data_date"
   ]
  },
  {
   "cell_type": "markdown",
   "metadata": {},
   "source": [
    "### posture change"
   ]
  },
  {
   "cell_type": "code",
   "execution_count": 13,
   "metadata": {},
   "outputs": [],
   "source": [
    "# posture change (times) \n",
    "\n",
    "# np.reshape(pd_list,(1,data_num))\n",
    "def posture_change(data_num, pd_list):\n",
    "    pc_list = np.zeros(data_num)\n",
    "\n",
    "    for i in range(data_num):\n",
    "        if pd_list[i]==1 or pd_list[i]==2 or pd_list[i]==3:\n",
    "            pc_list[i]=1\n",
    "        elif pd_list[i]==6:\n",
    "            pc_list[i]=2\n",
    "        elif pd_list[i]==4:\n",
    "            pc_list[i]=3\n",
    "        elif pd_list[i]==5 or pd_list[i]==0:\n",
    "            pc_list[i]=4\n",
    "\n",
    "    a=np.zeros(data_num)\n",
    "    for i in range(data_num):\n",
    "        if i+2<=data_num:\n",
    "            a[i] = bool(abs(pd_list[i+1]-pd_list[i]))\n",
    "\n",
    "    pc = sum(a)\n",
    "    return pc"
   ]
  },
  {
   "cell_type": "markdown",
   "metadata": {},
   "source": [
    "### 計算各姿態數量"
   ]
  },
  {
   "cell_type": "code",
   "execution_count": 14,
   "metadata": {},
   "outputs": [],
   "source": [
    "# 計算各姿態數量  ['Feeding','LactatingLeft','LactatingRight','NonLactating','Sitting','Standing','VRecumbency']\n",
    "\n",
    "def posture_cal(data_num, pd_list):\n",
    "\n",
    "    mylist = list(pd_list)\n",
    "    myset = set(mylist)\n",
    "    y = np.zeros(7)\n",
    "    for item in myset:\n",
    "        y[item] = mylist.count(item)\n",
    "    #     print(\"the %d has found %d\" %(item,mylist.count(item)))     \n",
    "\n",
    "    # 計算母豬吃料時長\n",
    "    F = y[0]/2\n",
    "    Fh = y[0]/60\n",
    "    Fd = y[0]/(data_num)*100    \n",
    "\n",
    "    # 計算母豬哺乳時長\n",
    "    LT = (y[1] + y[2])/2\n",
    "    LTh = LT/60\n",
    "    LTd = (y[1] + y[2])/(data_num)*100    \n",
    "\n",
    "    # 計算母豬趴臥時長\n",
    "    VR = y[6]/2\n",
    "    VRh = VR/60\n",
    "    VRd = y[6]/(data_num)*100    \n",
    "\n",
    "    # 計算母豬活動力\n",
    "    AR = (y[3] + y[6])/(data_num)*100\n",
    "    \n",
    "    return F, Fh, Fd, LT, LTh, LTd, VR, VRh, VRd, AR, y"
   ]
  },
  {
   "cell_type": "markdown",
   "metadata": {},
   "source": [
    "### pie chart"
   ]
  },
  {
   "cell_type": "code",
   "execution_count": 36,
   "metadata": {
    "scrolled": true
   },
   "outputs": [],
   "source": [
    "# pie chart\n",
    "def pie_chart(y, date, png_path):\n",
    "    plt.figure(figsize=(15,6))\n",
    "    ax = plt.axes()\n",
    "\n",
    "    labels = ['Feeding','Standing','Sitting','Recumbency','Lying','LactatingLeft','LactatingRight']\n",
    "    color = np.array([\"green\",\"lightgreen\",\"royalblue\",\"gold\",\"brown\",\"lightcoral\",\"pink\"])\n",
    "\n",
    "    y_plt = [y[0], y[5], y[4], y[6], y[3], y[1], y[2]]\n",
    "\n",
    "    x=plt.pie(y_plt, colors=color)\n",
    "    legend_elements = [Line2D([0], [0], marker='o', color='w', markerfacecolor='green', lw=2, label='Feeding %1.1f%%'%(y_plt[0]/data_num*100)),\n",
    "                       Line2D([0], [0], marker='o', color='w', markerfacecolor='lightgreen', label='Standing %1.1f%%'%(y_plt[1]/data_num*100)),\n",
    "                       Line2D([0], [0], marker='o', color='w', markerfacecolor='royalblue', lw=2, label='Sitting %1.1f%%'%(y_plt[2]/data_num*100)),\n",
    "                       Line2D([0], [0], marker='o', color='w', markerfacecolor='gold', lw=2, label='Sternal or ventral recumbency %1.1f%%'%(y_plt[3]/data_num*100)),\n",
    "                       Line2D([0], [0], marker='o', color='w', markerfacecolor='brown', lw=2, label='Lying %1.1f%%'%(y_plt[4]/data_num*100)),\n",
    "                       Line2D([0], [0], marker='o', color='w', markerfacecolor='lightcoral', lw=2, label='Lactating on the left side %1.1f%%'%(y_plt[5]/data_num*100)),\n",
    "                       Line2D([0], [0], marker='o', color='w', markerfacecolor='pink', lw=2, label='Lactating on the right side %1.1f%%'%(y_plt[6]/data_num*100))]\n",
    "\n",
    "    ax.legend(handles=legend_elements, bbox_to_anchor=(1, 0.7, 0.3, 0.2), loc='upper left', fontsize=12)\n",
    "    plt.show() \n",
    "#     plt.savefig(png_path, bbox_inches='tight',pad_inches = 0)"
   ]
  },
  {
   "cell_type": "markdown",
   "metadata": {},
   "source": [
    "### ALL"
   ]
  },
  {
   "cell_type": "code",
   "execution_count": 37,
   "metadata": {
    "scrolled": false
   },
   "outputs": [
    {
     "name": "stdout",
     "output_type": "stream",
     "text": [
      "posture change: 0.0 times\n",
      "\n"
     ]
    }
   ],
   "source": [
    "#讀檔、校正\n",
    "prediction_path = './result/220413/dy3/F1_20211214/'\n",
    "png_path = 'figure/' + prediction_path[-16:-13] + '_' + prediction_path[-12:-10] + '.png'\n",
    "\n",
    "date, data_num, pd_list, pd_final, data_date = read_cor(prediction_path, cor = True, so = True)\n",
    "for i in range(len(pd_list)):   \n",
    "    print(\"{}: {}\".format(data_date[i], pd_final[i]))\n",
    "\n",
    "# 計算姿態變化頻率\n",
    "pc = posture_change(data_num, pd_list)\n",
    "# print(\"posture change: {} times\\n\".format(pc))\n",
    "\n",
    "# 計算其他姿態\n",
    "F, Fh, Fd, LT, LTh, LTd, VR, VRh, VRd, AR, y = posture_cal(data_num, pd_list)\n",
    "# print(\"Time : %s ~ %s\" %(data_date[0], data_date[-1]))\n",
    "# print(\"sow feeding time\\t%d min\\t %1.1f hr\\t%1.2f %%\\t平均一天(8:00-18:00): %1.2f hr\" %(F, Fh, Fd, Fd/10)) \n",
    "# print(\"sow Lactating time\\t%d min\\t %1.1f hr\\t%1.2f %%\\t平均一天(8:00-18:00): %1.2f hr\" %(LT, LTh, LTd, LTd/10)) \n",
    "# print(\"sow Recumbency time\\t%d min\\t %1.1f hr\\t%1.2f %%\\t平均一天(8:00-18:00): %1.2f hr\" %(VR, VRh, VRd, VRd/10)) \n",
    "# print(\"sow inactive ratio\\t%d %%\\t (VRecumbency+Lying)/ALL*100%%\" %(AR))\n",
    "\n",
    "# test資料夾內各姿態站比圖\n",
    "# pie_chart(y, date, png_path)"
   ]
  },
  {
   "cell_type": "code",
   "execution_count": null,
   "metadata": {},
   "outputs": [],
   "source": []
  }
 ],
 "metadata": {
  "kernelspec": {
   "display_name": "Python 3",
   "language": "python",
   "name": "python3"
  },
  "language_info": {
   "codemirror_mode": {
    "name": "ipython",
    "version": 3
   },
   "file_extension": ".py",
   "mimetype": "text/x-python",
   "name": "python",
   "nbconvert_exporter": "python",
   "pygments_lexer": "ipython3",
   "version": "3.6.7"
  }
 },
 "nbformat": 4,
 "nbformat_minor": 2
}
